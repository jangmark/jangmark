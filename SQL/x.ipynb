{
 "cells": [
  {
   "cell_type": "code",
   "execution_count": 1,
   "metadata": {},
   "outputs": [
    {
     "name": "stdout",
     "output_type": "stream",
     "text": [
      "아이디 : kim99. 마이리지 : 12000\n",
      "아이디 : lee66. 마이리지 : 11000\n",
      "아이디 : han55. 마이리지 : 3000\n",
      "아이디 : hong77. 마이리지 : 5000\n",
      "아이디 : hwang33. 마이리지 : 18000\n"
     ]
    }
   ],
   "source": [
    "shop = {'kim99': 12000, 'lee66': 11000, 'han55': 3000, 'hong77': 5000, 'hwang33': 18000}\n",
    "for x in shop.keys():\n",
    "    print(f'아이디 : {x}. 마이리지 : {shop[x]}')"
   ]
  },
  {
   "cell_type": "code",
   "execution_count": 6,
   "metadata": {},
   "outputs": [
    {
     "name": "stdout",
     "output_type": "stream",
     "text": [
      "월    화    수    목    금    토    일    25.5      28.3      33.2      32.1      17.3      35.3      33.3      "
     ]
    }
   ],
   "source": [
    "temp = {'월':25.5, '화':28.3, '수':33.2, '목':32.1, '금':17.3, '토':35.3, '일':33.3}\n",
    "\n",
    "\n",
    "for k in temp:\n",
    "    print(k, end=\"    \")\n",
    "\n",
    "for k in temp: \n",
    "    print(temp[k], end=\"      \")"
   ]
  },
  {
   "cell_type": "code",
   "execution_count": 19,
   "metadata": {},
   "outputs": [
    {
     "name": "stdout",
     "output_type": "stream",
     "text": [
      "1\n"
     ]
    }
   ],
   "source": [
    "\n",
    "# Q7. 딕셔너리에서 주간 최고 기온이 30˚ 이상인 요일을 출력하는 프로그램을 작성하시오.\n",
    "\n",
    "year = 2000\n",
    "if (year%4 == 0 and year%100 != 0) or year%3000:\n",
    "    print(1)\n"
   ]
  },
  {
   "cell_type": "code",
   "execution_count": null,
   "metadata": {},
   "outputs": [],
   "source": []
  }
 ],
 "metadata": {
  "kernelspec": {
   "display_name": "Python 3",
   "language": "python",
   "name": "python3"
  },
  "language_info": {
   "codemirror_mode": {
    "name": "ipython",
    "version": 3
   },
   "file_extension": ".py",
   "mimetype": "text/x-python",
   "name": "python",
   "nbconvert_exporter": "python",
   "pygments_lexer": "ipython3",
   "version": "3.10.9 (tags/v3.10.9:1dd9be6, Dec  6 2022, 20:01:21) [MSC v.1934 64 bit (AMD64)]"
  },
  "orig_nbformat": 4,
  "vscode": {
   "interpreter": {
    "hash": "f3019a55ef7e5d7f03247db3a39cc6afeb07a7c651119e3ead3af7922cf899f3"
   }
  }
 },
 "nbformat": 4,
 "nbformat_minor": 2
}
