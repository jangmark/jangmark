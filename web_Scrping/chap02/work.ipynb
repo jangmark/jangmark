{
 "cells": [
  {
   "cell_type": "code",
   "execution_count": 3,
   "metadata": {},
   "outputs": [
    {
     "name": "stdout",
     "output_type": "stream",
     "text": [
      "                  매장이름     위치(시,구)  \\\n",
      "0    순천향대학교 천안병원 외래센터점  충남 천안시 동남구   \n",
      "1      순천향대학교 천안병원 본관점  충남 천안시 동남구   \n",
      "2            (천)이인휴게소점      충남 공주시   \n",
      "3          (논)탄천휴게소2호점      충남 공주시   \n",
      "4             강남우리라운지점      서울 강남구   \n",
      "..                 ...         ...   \n",
      "517               신흥역점  경기 성남시 수정구   \n",
      "518                신림점      서울 관악구   \n",
      "519               태평로점       서울 중구   \n",
      "520             부산서면본점     부산 부산진구   \n",
      "521                신촌점     서울 서대문구   \n",
      "\n",
      "                                                   주소          전화번호  \n",
      "0     충청남도 천안시 동남구 순천향6길 31 (봉명동, 순천향대학교천안병원) 외래센터 2층             .  \n",
      "1       충청남도 천안시 동남구 순천향6길 31 (봉명동, 순천향대학교천안병원) 본관 1층             .  \n",
      "2                충청남도 공주시 이인면 논산천안고속도로 32 (이인상행휴게소) .             .  \n",
      "3                충청남도 공주시 탄천면 논산천안고속도로 27 (탄천하행휴게소) .             .  \n",
      "4               서울특별시 강남구 테헤란로 301 역삼동 701-02 삼정빌딩 1층   02-566-1002  \n",
      "..                                                ...           ...  \n",
      "517                 경기도 성남시 수정구 산성대로 265 (신흥동) 2층 할리스  031-626-6140  \n",
      "518                               서울특별시 관악구 신림로 353-1   02-877-0019  \n",
      "519        서울특별시 중구 세종대로 64, 해남빌딩 1층 (태평로2가 70-5) 할리스   02-755-7795  \n",
      "520  부산광역시 부산진구 동천로 73, DS타워 1~2층 (부전동 부전동 169-1) 할리스  051-819-9117  \n",
      "521                서울특별시 서대문구 연세로 34 (창천동 31-12)  할리스   02-393-2004  \n",
      "\n",
      "[522 rows x 4 columns]\n"
     ]
    }
   ],
   "source": [
    "import pandas as pd\n",
    "\n",
    "hollys_shop = pd.read_csv(r'D:\\web_Scrping\\hollys2.csv',encoding='utf-8')\n",
    "hollys_shop=hollys_shop.drop(['Unnamed: 0'],axis=1)\n",
    "print(hollys_shop)"
   ]
  },
  {
   "cell_type": "code",
   "execution_count": null,
   "metadata": {},
   "outputs": [],
   "source": [
    "while True:\n",
    "    q = input(\"검색할 매장의 도시를 입력하세요\")\n",
    "    if q == 'quit':\n",
    "        break\n",
    "    else:\n",
    "        q_shop = hollys_shop.loc[hollys_shop[\"위치(시,구)].str.contains(q)\"]]\n",
    "        print('-'*30)\n",
    "        n = int(input('검색할 매장의 수 : '))\n",
    "        print('-'*30)\n",
    "        for x in range(n):\n",
    "            print(f'[{x+1:3}]: {list(q_shop.iloc[x,[3,4]])}')"
   ]
  }
 ],
 "metadata": {
  "kernelspec": {
   "display_name": "Python 3",
   "language": "python",
   "name": "python3"
  },
  "language_info": {
   "codemirror_mode": {
    "name": "ipython",
    "version": 3
   },
   "file_extension": ".py",
   "mimetype": "text/x-python",
   "name": "python",
   "nbconvert_exporter": "python",
   "pygments_lexer": "ipython3",
   "version": "3.10.9 (tags/v3.10.9:1dd9be6, Dec  6 2022, 20:01:21) [MSC v.1934 64 bit (AMD64)]"
  },
  "orig_nbformat": 4,
  "vscode": {
   "interpreter": {
    "hash": "f3019a55ef7e5d7f03247db3a39cc6afeb07a7c651119e3ead3af7922cf899f3"
   }
  }
 },
 "nbformat": 4,
 "nbformat_minor": 2
}
