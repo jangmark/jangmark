{
 "cells": [
  {
   "cell_type": "code",
   "execution_count": 130,
   "metadata": {},
   "outputs": [
    {
     "data": {
      "text/html": [
       "<div>\n",
       "<style scoped>\n",
       "    .dataframe tbody tr th:only-of-type {\n",
       "        vertical-align: middle;\n",
       "    }\n",
       "\n",
       "    .dataframe tbody tr th {\n",
       "        vertical-align: top;\n",
       "    }\n",
       "\n",
       "    .dataframe thead th {\n",
       "        text-align: right;\n",
       "    }\n",
       "</style>\n",
       "<table border=\"1\" class=\"dataframe\">\n",
       "  <thead>\n",
       "    <tr style=\"text-align: right;\">\n",
       "      <th></th>\n",
       "      <th>날짜</th>\n",
       "      <th>지점</th>\n",
       "      <th>평균기온</th>\n",
       "      <th>최저기온</th>\n",
       "      <th>최고기온</th>\n",
       "    </tr>\n",
       "  </thead>\n",
       "  <tbody>\n",
       "    <tr>\n",
       "      <th>701</th>\n",
       "      <td>1909-01-01</td>\n",
       "      <td>143</td>\n",
       "      <td>-4.1</td>\n",
       "      <td>-8.0</td>\n",
       "      <td>0.1</td>\n",
       "    </tr>\n",
       "    <tr>\n",
       "      <th>702</th>\n",
       "      <td>1909-01-02</td>\n",
       "      <td>143</td>\n",
       "      <td>-0.8</td>\n",
       "      <td>-6.7</td>\n",
       "      <td>6.1</td>\n",
       "    </tr>\n",
       "    <tr>\n",
       "      <th>703</th>\n",
       "      <td>1909-01-03</td>\n",
       "      <td>143</td>\n",
       "      <td>1.0</td>\n",
       "      <td>-2.4</td>\n",
       "      <td>3.6</td>\n",
       "    </tr>\n",
       "    <tr>\n",
       "      <th>704</th>\n",
       "      <td>1909-01-04</td>\n",
       "      <td>143</td>\n",
       "      <td>4.2</td>\n",
       "      <td>0.0</td>\n",
       "      <td>9.2</td>\n",
       "    </tr>\n",
       "    <tr>\n",
       "      <th>705</th>\n",
       "      <td>1909-01-05</td>\n",
       "      <td>143</td>\n",
       "      <td>3.4</td>\n",
       "      <td>-0.4</td>\n",
       "      <td>9.0</td>\n",
       "    </tr>\n",
       "    <tr>\n",
       "      <th>...</th>\n",
       "      <td>...</td>\n",
       "      <td>...</td>\n",
       "      <td>...</td>\n",
       "      <td>...</td>\n",
       "      <td>...</td>\n",
       "    </tr>\n",
       "    <tr>\n",
       "      <th>42365</th>\n",
       "      <td>2023-01-27</td>\n",
       "      <td>143</td>\n",
       "      <td>-3.0</td>\n",
       "      <td>-6.5</td>\n",
       "      <td>0.3</td>\n",
       "    </tr>\n",
       "    <tr>\n",
       "      <th>42366</th>\n",
       "      <td>2023-01-28</td>\n",
       "      <td>143</td>\n",
       "      <td>-3.6</td>\n",
       "      <td>-8.3</td>\n",
       "      <td>1.1</td>\n",
       "    </tr>\n",
       "    <tr>\n",
       "      <th>42367</th>\n",
       "      <td>2023-01-29</td>\n",
       "      <td>143</td>\n",
       "      <td>0.8</td>\n",
       "      <td>-6.0</td>\n",
       "      <td>6.4</td>\n",
       "    </tr>\n",
       "    <tr>\n",
       "      <th>42368</th>\n",
       "      <td>2023-01-30</td>\n",
       "      <td>143</td>\n",
       "      <td>1.3</td>\n",
       "      <td>-3.2</td>\n",
       "      <td>5.8</td>\n",
       "    </tr>\n",
       "    <tr>\n",
       "      <th>42369</th>\n",
       "      <td>2023-01-31</td>\n",
       "      <td>143</td>\n",
       "      <td>1.7</td>\n",
       "      <td>-6.4</td>\n",
       "      <td>11.3</td>\n",
       "    </tr>\n",
       "  </tbody>\n",
       "</table>\n",
       "<p>41665 rows × 5 columns</p>\n",
       "</div>"
      ],
      "text/plain": [
       "              날짜   지점  평균기온  최저기온  최고기온\n",
       "701   1909-01-01  143  -4.1  -8.0   0.1\n",
       "702   1909-01-02  143  -0.8  -6.7   6.1\n",
       "703   1909-01-03  143   1.0  -2.4   3.6\n",
       "704   1909-01-04  143   4.2   0.0   9.2\n",
       "705   1909-01-05  143   3.4  -0.4   9.0\n",
       "...          ...  ...   ...   ...   ...\n",
       "42365 2023-01-27  143  -3.0  -6.5   0.3\n",
       "42366 2023-01-28  143  -3.6  -8.3   1.1\n",
       "42367 2023-01-29  143   0.8  -6.0   6.4\n",
       "42368 2023-01-30  143   1.3  -3.2   5.8\n",
       "42369 2023-01-31  143   1.7  -6.4  11.3\n",
       "\n",
       "[41665 rows x 5 columns]"
      ]
     },
     "execution_count": 130,
     "metadata": {},
     "output_type": "execute_result"
    }
   ],
   "source": [
    "import csv\n",
    "import pandas as pd\n",
    "import matplotlib.pyplot as plt\n",
    "import platform\n",
    "\n",
    "df = pd.read_csv('daegu-utf8.csv')\n",
    "df.columns = ['날짜','지점','평균기온','최저기온','최고기온']\n",
    "df['날짜'] = pd.to_datetime(df['날짜'],format='%Y-%m-%d')\n",
    "df = df.dropna(axis=0)\n",
    "df\n"
   ]
  },
  {
   "cell_type": "code",
   "execution_count": 131,
   "metadata": {},
   "outputs": [
    {
     "name": "stdout",
     "output_type": "stream",
     "text": [
      "12월 최저기온 평균:\n",
      "[-3.9, -0.5, -2.8, 0.5, -0.6, -4.0, -2.3, -1.0, -3.1, -2.1, -4.0]\n",
      "12월 최고기온 평균:\n",
      "[3.9, 8.1, 5.8, 9.0, 8.7, 5.8, 7.0, 9.0, 7.2, 8.9, 5.4]\n"
     ]
    },
    {
     "name": "stderr",
     "output_type": "stream",
     "text": [
      "C:\\Users\\jangmark\\AppData\\Local\\Temp\\ipykernel_4232\\2362627202.py:6: UserWarning: Boolean Series key will be reindexed to match DataFrame index.\n",
      "  s_df = s_df[df['날짜'].dt.month == month]\n"
     ]
    },
    {
     "ename": "AttributeError",
     "evalue": "'Int64Index' object has no attribute 'dt'",
     "output_type": "error",
     "traceback": [
      "\u001b[1;31m---------------------------------------------------------------------------\u001b[0m",
      "\u001b[1;31mAttributeError\u001b[0m                            Traceback (most recent call last)",
      "\u001b[1;32m~\\AppData\\Local\\Temp\\ipykernel_4232\\2362627202.py\u001b[0m in \u001b[0;36m<module>\u001b[1;34m\u001b[0m\n\u001b[0;32m     16\u001b[0m \u001b[0mplt\u001b[0m\u001b[1;33m.\u001b[0m\u001b[0mfigure\u001b[0m\u001b[1;33m(\u001b[0m\u001b[0mfigsize\u001b[0m\u001b[1;33m=\u001b[0m\u001b[1;33m(\u001b[0m\u001b[1;36m20\u001b[0m\u001b[1;33m,\u001b[0m \u001b[1;36m4\u001b[0m\u001b[1;33m)\u001b[0m\u001b[1;33m)\u001b[0m\u001b[1;33m\u001b[0m\u001b[1;33m\u001b[0m\u001b[0m\n\u001b[0;32m     17\u001b[0m \u001b[0mplt\u001b[0m\u001b[1;33m.\u001b[0m\u001b[0mplot\u001b[0m\u001b[1;33m(\u001b[0m\u001b[0mmean_df\u001b[0m\u001b[1;33m.\u001b[0m\u001b[0mindex\u001b[0m\u001b[1;33m,\u001b[0m \u001b[0mmean_df\u001b[0m\u001b[1;33m[\u001b[0m\u001b[1;34m'최고기온'\u001b[0m\u001b[1;33m]\u001b[0m\u001b[1;33m,\u001b[0m \u001b[1;34m'hotpink'\u001b[0m\u001b[1;33m,\u001b[0m \u001b[0mmarker\u001b[0m\u001b[1;33m=\u001b[0m\u001b[1;34m'o'\u001b[0m\u001b[1;33m,\u001b[0m \u001b[0mlabel\u001b[0m\u001b[1;33m=\u001b[0m\u001b[1;34m'최고기온'\u001b[0m\u001b[1;33m)\u001b[0m\u001b[1;33m\u001b[0m\u001b[1;33m\u001b[0m\u001b[0m\n\u001b[1;32m---> 18\u001b[1;33m \u001b[0mplt\u001b[0m\u001b[1;33m.\u001b[0m\u001b[0mplot\u001b[0m\u001b[1;33m(\u001b[0m\u001b[0mmean_df\u001b[0m\u001b[1;33m.\u001b[0m\u001b[0mindex\u001b[0m\u001b[1;33m.\u001b[0m\u001b[0mdt\u001b[0m\u001b[1;33m.\u001b[0m\u001b[0myear\u001b[0m\u001b[1;33m,\u001b[0m \u001b[0mmean_df\u001b[0m\u001b[1;33m[\u001b[0m\u001b[1;34m'최저기온'\u001b[0m\u001b[1;33m]\u001b[0m\u001b[1;33m,\u001b[0m \u001b[0mmarker\u001b[0m\u001b[1;33m=\u001b[0m\u001b[1;34m's'\u001b[0m\u001b[1;33m,\u001b[0m \u001b[0mlabel\u001b[0m\u001b[1;33m=\u001b[0m\u001b[1;34m'최저기온'\u001b[0m\u001b[1;33m)\u001b[0m\u001b[1;33m\u001b[0m\u001b[1;33m\u001b[0m\u001b[0m\n\u001b[0m\u001b[0;32m     19\u001b[0m \u001b[1;33m\u001b[0m\u001b[0m\n\u001b[0;32m     20\u001b[0m \u001b[1;32mif\u001b[0m \u001b[0mplatform\u001b[0m\u001b[1;33m.\u001b[0m\u001b[0msystem\u001b[0m\u001b[1;33m(\u001b[0m\u001b[1;33m)\u001b[0m \u001b[1;33m==\u001b[0m \u001b[1;34m'Windows'\u001b[0m\u001b[1;33m:\u001b[0m\u001b[1;33m\u001b[0m\u001b[1;33m\u001b[0m\u001b[0m\n",
      "\u001b[1;31mAttributeError\u001b[0m: 'Int64Index' object has no attribute 'dt'"
     ]
    },
    {
     "data": {
      "image/png": "[encoded data removed]",
      "text/plain": [
       "<Figure size 2000x400 with 1 Axes>"
      ]
     },
     "metadata": {},
     "output_type": "display_data"
    }
   ],
   "source": [
    "startyear = int(input(\"시작년도\"))\n",
    "endyear = int(input(\"끝나는 년도\"))\n",
    "month = int(input('측정할 달'))\n",
    "\n",
    "s_df = df[(df['날짜'].dt.year>=startyear) & (df['날짜'].dt.year <= endyear)]\n",
    "s_df = s_df[df['날짜'].dt.month == month]\n",
    "mean_df = s_df.groupby(s_df['날짜'].dt.year).mean()\n",
    "mean_df = round(mean_df,1)\n",
    "\n",
    "\n",
    "print(f'{month}월 최저기온 평균:')\n",
    "print(list(mean_df['최저기온']), sep = ', ')\n",
    "print(f'{month}월 최고기온 평균:')\n",
    "print(list(mean_df['최고기온']), sep = ', ')\n",
    "\n",
    "plt.figure(figsize=(20, 4))\n",
    "plt.plot(mean_df.index, mean_df['최고기온'], 'hotpink', marker='o', label='최고기온')\n",
    "plt.plot(mean_df.index.dt.year, mean_df['최저기온'], marker='s', label='최저기온')\n",
    "\n",
    "if platform.system() == 'Windows':\n",
    "    plt.rc('font', family='Malgun Gothic', size = 8)\n",
    "else:\n",
    "    plt.rc('font', family='AppleGothic', size=8)\n",
    "    \n",
    "plt.rcParams['axes.unicode_minus'] = False\n",
    "plt.title(f'{startyear}년부터 {endyear}년까지 {month}월의 기온 변화',size=16)\n",
    "plt.legend()\n",
    "plt.show()\n"
   ]
  }
 ],
 "metadata": {
  "kernelspec": {
   "display_name": "base",
   "language": "python",
   "name": "python3"
  },
  "language_info": {
   "codemirror_mode": {
    "name": "ipython",
    "version": 3
   },
   "file_extension": ".py",
   "mimetype": "text/x-python",
   "name": "python",
   "nbconvert_exporter": "python",
   "pygments_lexer": "ipython3",
   "version": "3.9.15 (main, Nov 24 2022, 14:39:17) [MSC v.1916 64 bit (AMD64)]"
  },
  "orig_nbformat": 4,
  "vscode": {
   "interpreter": {
    "hash": "ad2bdc8ecc057115af97d19610ffacc2b4e99fae6737bb82f5d7fb13d2f2c186"
   }
  }
 },
 "nbformat": 4,
 "nbformat_minor": 2
}
