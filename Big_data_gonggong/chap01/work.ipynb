{
 "cells": [
  {
   "cell_type": "code",
   "execution_count": 106,
   "metadata": {},
   "outputs": [
    {
     "data": {
      "text/html": [
       "<div>\n",
       "<style scoped>\n",
       "    .dataframe tbody tr th:only-of-type {\n",
       "        vertical-align: middle;\n",
       "    }\n",
       "\n",
       "    .dataframe tbody tr th {\n",
       "        vertical-align: top;\n",
       "    }\n",
       "\n",
       "    .dataframe thead th {\n",
       "        text-align: right;\n",
       "    }\n",
       "</style>\n",
       "<table border=\"1\" class=\"dataframe\">\n",
       "  <thead>\n",
       "    <tr style=\"text-align: right;\">\n",
       "      <th></th>\n",
       "      <th>날짜</th>\n",
       "      <th>지점</th>\n",
       "      <th>평균기온(℃)</th>\n",
       "      <th>최저기온(℃)</th>\n",
       "      <th>최고기온(℃)</th>\n",
       "    </tr>\n",
       "  </thead>\n",
       "  <tbody>\n",
       "    <tr>\n",
       "      <th>0</th>\n",
       "      <td>1907-01-31</td>\n",
       "      <td>143</td>\n",
       "      <td>NaN</td>\n",
       "      <td>-7.0</td>\n",
       "      <td>0.8</td>\n",
       "    </tr>\n",
       "    <tr>\n",
       "      <th>1</th>\n",
       "      <td>1907-02-01</td>\n",
       "      <td>143</td>\n",
       "      <td>NaN</td>\n",
       "      <td>NaN</td>\n",
       "      <td>NaN</td>\n",
       "    </tr>\n",
       "    <tr>\n",
       "      <th>2</th>\n",
       "      <td>1907-02-02</td>\n",
       "      <td>143</td>\n",
       "      <td>NaN</td>\n",
       "      <td>NaN</td>\n",
       "      <td>NaN</td>\n",
       "    </tr>\n",
       "    <tr>\n",
       "      <th>3</th>\n",
       "      <td>1907-02-03</td>\n",
       "      <td>143</td>\n",
       "      <td>NaN</td>\n",
       "      <td>NaN</td>\n",
       "      <td>NaN</td>\n",
       "    </tr>\n",
       "    <tr>\n",
       "      <th>4</th>\n",
       "      <td>1907-02-04</td>\n",
       "      <td>143</td>\n",
       "      <td>NaN</td>\n",
       "      <td>NaN</td>\n",
       "      <td>NaN</td>\n",
       "    </tr>\n",
       "    <tr>\n",
       "      <th>...</th>\n",
       "      <td>...</td>\n",
       "      <td>...</td>\n",
       "      <td>...</td>\n",
       "      <td>...</td>\n",
       "      <td>...</td>\n",
       "    </tr>\n",
       "    <tr>\n",
       "      <th>42365</th>\n",
       "      <td>2023-01-27</td>\n",
       "      <td>143</td>\n",
       "      <td>-3.0</td>\n",
       "      <td>-6.5</td>\n",
       "      <td>0.3</td>\n",
       "    </tr>\n",
       "    <tr>\n",
       "      <th>42366</th>\n",
       "      <td>2023-01-28</td>\n",
       "      <td>143</td>\n",
       "      <td>-3.6</td>\n",
       "      <td>-8.3</td>\n",
       "      <td>1.1</td>\n",
       "    </tr>\n",
       "    <tr>\n",
       "      <th>42367</th>\n",
       "      <td>2023-01-29</td>\n",
       "      <td>143</td>\n",
       "      <td>0.8</td>\n",
       "      <td>-6.0</td>\n",
       "      <td>6.4</td>\n",
       "    </tr>\n",
       "    <tr>\n",
       "      <th>42368</th>\n",
       "      <td>2023-01-30</td>\n",
       "      <td>143</td>\n",
       "      <td>1.3</td>\n",
       "      <td>-3.2</td>\n",
       "      <td>5.8</td>\n",
       "    </tr>\n",
       "    <tr>\n",
       "      <th>42369</th>\n",
       "      <td>2023-01-31</td>\n",
       "      <td>143</td>\n",
       "      <td>1.7</td>\n",
       "      <td>-6.4</td>\n",
       "      <td>11.3</td>\n",
       "    </tr>\n",
       "  </tbody>\n",
       "</table>\n",
       "<p>42370 rows × 5 columns</p>\n",
       "</div>"
      ],
      "text/plain": [
       "               날짜   지점  평균기온(℃)  최저기온(℃)  최고기온(℃)\n",
       "0      1907-01-31  143      NaN     -7.0      0.8\n",
       "1      1907-02-01  143      NaN      NaN      NaN\n",
       "2      1907-02-02  143      NaN      NaN      NaN\n",
       "3      1907-02-03  143      NaN      NaN      NaN\n",
       "4      1907-02-04  143      NaN      NaN      NaN\n",
       "...           ...  ...      ...      ...      ...\n",
       "42365  2023-01-27  143     -3.0     -6.5      0.3\n",
       "42366  2023-01-28  143     -3.6     -8.3      1.1\n",
       "42367  2023-01-29  143      0.8     -6.0      6.4\n",
       "42368  2023-01-30  143      1.3     -3.2      5.8\n",
       "42369  2023-01-31  143      1.7     -6.4     11.3\n",
       "\n",
       "[42370 rows x 5 columns]"
      ]
     },
     "execution_count": 106,
     "metadata": {},
     "output_type": "execute_result"
    }
   ],
   "source": [
    "import pandas as pd\n",
    "import matplotlib.pyplot as plt\n",
    "df = pd.read_csv('daegu-utf8.csv', encoding='utf-8-sig')\n",
    "df\n",
    "\n"
   ]
  },
  {
   "cell_type": "code",
   "execution_count": 108,
   "metadata": {},
   "outputs": [
    {
     "name": "stdout",
     "output_type": "stream",
     "text": [
      "               날짜   지점  평균기온  최저기온  최고기온\n",
      "0      1907-01-31  143   NaN  -7.0   0.8\n",
      "1      1907-02-01  143   NaN   NaN   NaN\n",
      "2      1907-02-02  143   NaN   NaN   NaN\n",
      "3      1907-02-03  143   NaN   NaN   NaN\n",
      "4      1907-02-04  143   NaN   NaN   NaN\n",
      "...           ...  ...   ...   ...   ...\n",
      "42365  2023-01-27  143  -3.0  -6.5   0.3\n",
      "42366  2023-01-28  143  -3.6  -8.3   1.1\n",
      "42367  2023-01-29  143   0.8  -6.0   6.4\n",
      "42368  2023-01-30  143   1.3  -3.2   5.8\n",
      "42369  2023-01-31  143   1.7  -6.4  11.3\n",
      "\n",
      "[42370 rows x 5 columns]\n"
     ]
    }
   ],
   "source": [
    "df.columns = ['날짜','지점','평균기온','최저기온','최고기온']\n",
    "print(df)"
   ]
  },
  {
   "cell_type": "code",
   "execution_count": 95,
   "metadata": {},
   "outputs": [
    {
     "name": "stdout",
     "output_type": "stream",
     "text": [
      "datetime64[ns]\n"
     ]
    }
   ],
   "source": [
    "df['날짜'] = pd.to_datetime(df['날짜'], format='%Y-%m-%d')\n",
    "print(df['날짜'].dtype)"
   ]
  },
  {
   "cell_type": "code",
   "execution_count": 96,
   "metadata": {},
   "outputs": [
    {
     "name": "stdout",
     "output_type": "stream",
     "text": [
      "날짜        0\n",
      "지점        0\n",
      "평균기온    703\n",
      "최저기온    629\n",
      "최고기온    630\n",
      "dtype: int64\n"
     ]
    }
   ],
   "source": [
    "num_rows = df.shape[0] # shape(row, col), shape[0]: row의 개수\n",
    "num_missing = num_rows - df.count() # count(): 정상값의 개수\n",
    "print(num_missing)"
   ]
  },
  {
   "cell_type": "code",
   "execution_count": 97,
   "metadata": {},
   "outputs": [
    {
     "name": "stdout",
     "output_type": "stream",
     "text": [
      "              날짜   지점  평균기온  최저기온  최고기온\n",
      "701   1909-01-01  143  -4.1  -8.0   0.1\n",
      "702   1909-01-02  143  -0.8  -6.7   6.1\n",
      "703   1909-01-03  143   1.0  -2.4   3.6\n",
      "704   1909-01-04  143   4.2   0.0   9.2\n",
      "705   1909-01-05  143   3.4  -0.4   9.0\n",
      "...          ...  ...   ...   ...   ...\n",
      "42365 2023-01-27  143  -3.0  -6.5   0.3\n",
      "42366 2023-01-28  143  -3.6  -8.3   1.1\n",
      "42367 2023-01-29  143   0.8  -6.0   6.4\n",
      "42368 2023-01-30  143   1.3  -3.2   5.8\n",
      "42369 2023-01-31  143   1.7  -6.4  11.3\n",
      "\n",
      "[41665 rows x 5 columns]\n"
     ]
    }
   ],
   "source": [
    "df = df.dropna(axis=0)\n",
    "print(df)"
   ]
  },
  {
   "cell_type": "code",
   "execution_count": 109,
   "metadata": {},
   "outputs": [
    {
     "ename": "AttributeError",
     "evalue": "Can only use .dt accessor with datetimelike values",
     "output_type": "error",
     "traceback": [
      "\u001b[1;31m---------------------------------------------------------------------------\u001b[0m",
      "\u001b[1;31mAttributeError\u001b[0m                            Traceback (most recent call last)",
      "\u001b[1;32m~\\AppData\\Local\\Temp\\ipykernel_10300\\99556305.py\u001b[0m in \u001b[0;36m<module>\u001b[1;34m\u001b[0m\n\u001b[0;32m      3\u001b[0m \u001b[0mmonth\u001b[0m \u001b[1;33m=\u001b[0m \u001b[0mint\u001b[0m\u001b[1;33m(\u001b[0m\u001b[0minput\u001b[0m\u001b[1;33m(\u001b[0m\u001b[1;34m'측정할 달'\u001b[0m\u001b[1;33m)\u001b[0m\u001b[1;33m)\u001b[0m\u001b[1;33m\u001b[0m\u001b[1;33m\u001b[0m\u001b[0m\n\u001b[0;32m      4\u001b[0m \u001b[1;33m\u001b[0m\u001b[0m\n\u001b[1;32m----> 5\u001b[1;33m \u001b[0ms_data\u001b[0m \u001b[1;33m=\u001b[0m \u001b[0mdf\u001b[0m\u001b[1;33m[\u001b[0m\u001b[0mstartyear\u001b[0m \u001b[1;33m<=\u001b[0m \u001b[0mdf\u001b[0m\u001b[1;33m[\u001b[0m\u001b[1;34m'날짜'\u001b[0m\u001b[1;33m]\u001b[0m\u001b[1;33m.\u001b[0m\u001b[0mdt\u001b[0m\u001b[1;33m.\u001b[0m\u001b[0myear\u001b[0m\u001b[1;33m]\u001b[0m\u001b[1;33m\u001b[0m\u001b[1;33m\u001b[0m\u001b[0m\n\u001b[0m\u001b[0;32m      6\u001b[0m \u001b[0ms_data\u001b[0m \u001b[1;33m=\u001b[0m \u001b[0mdf\u001b[0m\u001b[1;33m[\u001b[0m\u001b[0mdf\u001b[0m\u001b[1;33m[\u001b[0m\u001b[1;34m'날짜'\u001b[0m\u001b[1;33m]\u001b[0m\u001b[1;33m.\u001b[0m\u001b[0mdt\u001b[0m\u001b[1;33m.\u001b[0m\u001b[0myear\u001b[0m \u001b[1;33m<=\u001b[0m \u001b[0mendyear\u001b[0m\u001b[1;33m]\u001b[0m\u001b[1;33m\u001b[0m\u001b[1;33m\u001b[0m\u001b[0m\n\u001b[0;32m      7\u001b[0m \u001b[0ms_data\u001b[0m \u001b[1;33m=\u001b[0m \u001b[0mdf\u001b[0m\u001b[1;33m[\u001b[0m\u001b[0mdf\u001b[0m\u001b[1;33m[\u001b[0m\u001b[1;34m'날짜'\u001b[0m\u001b[1;33m]\u001b[0m\u001b[1;33m.\u001b[0m\u001b[0mdt\u001b[0m\u001b[1;33m.\u001b[0m\u001b[0mmonth\u001b[0m \u001b[1;33m==\u001b[0m \u001b[0mmonth\u001b[0m\u001b[1;33m]\u001b[0m\u001b[1;33m\u001b[0m\u001b[1;33m\u001b[0m\u001b[0m\n",
      "\u001b[1;32mc:\\ProgramData\\Anaconda3\\lib\\site-packages\\pandas\\core\\generic.py\u001b[0m in \u001b[0;36m__getattr__\u001b[1;34m(self, name)\u001b[0m\n\u001b[0;32m   5573\u001b[0m         ):\n\u001b[0;32m   5574\u001b[0m             \u001b[1;32mreturn\u001b[0m \u001b[0mself\u001b[0m\u001b[1;33m[\u001b[0m\u001b[0mname\u001b[0m\u001b[1;33m]\u001b[0m\u001b[1;33m\u001b[0m\u001b[1;33m\u001b[0m\u001b[0m\n\u001b[1;32m-> 5575\u001b[1;33m         \u001b[1;32mreturn\u001b[0m \u001b[0mobject\u001b[0m\u001b[1;33m.\u001b[0m\u001b[0m__getattribute__\u001b[0m\u001b[1;33m(\u001b[0m\u001b[0mself\u001b[0m\u001b[1;33m,\u001b[0m \u001b[0mname\u001b[0m\u001b[1;33m)\u001b[0m\u001b[1;33m\u001b[0m\u001b[1;33m\u001b[0m\u001b[0m\n\u001b[0m\u001b[0;32m   5576\u001b[0m \u001b[1;33m\u001b[0m\u001b[0m\n\u001b[0;32m   5577\u001b[0m     \u001b[1;32mdef\u001b[0m \u001b[0m__setattr__\u001b[0m\u001b[1;33m(\u001b[0m\u001b[0mself\u001b[0m\u001b[1;33m,\u001b[0m \u001b[0mname\u001b[0m\u001b[1;33m:\u001b[0m \u001b[0mstr\u001b[0m\u001b[1;33m,\u001b[0m \u001b[0mvalue\u001b[0m\u001b[1;33m)\u001b[0m \u001b[1;33m->\u001b[0m \u001b[1;32mNone\u001b[0m\u001b[1;33m:\u001b[0m\u001b[1;33m\u001b[0m\u001b[1;33m\u001b[0m\u001b[0m\n",
      "\u001b[1;32mc:\\ProgramData\\Anaconda3\\lib\\site-packages\\pandas\\core\\accessor.py\u001b[0m in \u001b[0;36m__get__\u001b[1;34m(self, obj, cls)\u001b[0m\n\u001b[0;32m    180\u001b[0m             \u001b[1;31m# we're accessing the attribute of the class, i.e., Dataset.geo\u001b[0m\u001b[1;33m\u001b[0m\u001b[1;33m\u001b[0m\u001b[0m\n\u001b[0;32m    181\u001b[0m             \u001b[1;32mreturn\u001b[0m \u001b[0mself\u001b[0m\u001b[1;33m.\u001b[0m\u001b[0m_accessor\u001b[0m\u001b[1;33m\u001b[0m\u001b[1;33m\u001b[0m\u001b[0m\n\u001b[1;32m--> 182\u001b[1;33m         \u001b[0maccessor_obj\u001b[0m \u001b[1;33m=\u001b[0m \u001b[0mself\u001b[0m\u001b[1;33m.\u001b[0m\u001b[0m_accessor\u001b[0m\u001b[1;33m(\u001b[0m\u001b[0mobj\u001b[0m\u001b[1;33m)\u001b[0m\u001b[1;33m\u001b[0m\u001b[1;33m\u001b[0m\u001b[0m\n\u001b[0m\u001b[0;32m    183\u001b[0m         \u001b[1;31m# Replace the property with the accessor object. Inspired by:\u001b[0m\u001b[1;33m\u001b[0m\u001b[1;33m\u001b[0m\u001b[0m\n\u001b[0;32m    184\u001b[0m         \u001b[1;31m# https://www.pydanny.com/cached-property.html\u001b[0m\u001b[1;33m\u001b[0m\u001b[1;33m\u001b[0m\u001b[0m\n",
      "\u001b[1;32mc:\\ProgramData\\Anaconda3\\lib\\site-packages\\pandas\\core\\indexes\\accessors.py\u001b[0m in \u001b[0;36m__new__\u001b[1;34m(cls, data)\u001b[0m\n\u001b[0;32m    507\u001b[0m             \u001b[1;32mreturn\u001b[0m \u001b[0mPeriodProperties\u001b[0m\u001b[1;33m(\u001b[0m\u001b[0mdata\u001b[0m\u001b[1;33m,\u001b[0m \u001b[0morig\u001b[0m\u001b[1;33m)\u001b[0m\u001b[1;33m\u001b[0m\u001b[1;33m\u001b[0m\u001b[0m\n\u001b[0;32m    508\u001b[0m \u001b[1;33m\u001b[0m\u001b[0m\n\u001b[1;32m--> 509\u001b[1;33m         \u001b[1;32mraise\u001b[0m \u001b[0mAttributeError\u001b[0m\u001b[1;33m(\u001b[0m\u001b[1;34m\"Can only use .dt accessor with datetimelike values\"\u001b[0m\u001b[1;33m)\u001b[0m\u001b[1;33m\u001b[0m\u001b[1;33m\u001b[0m\u001b[0m\n\u001b[0m",
      "\u001b[1;31mAttributeError\u001b[0m: Can only use .dt accessor with datetimelike values"
     ]
    }
   ],
   "source": [
    "startyear = int(input(\"시작년도\"))\n",
    "endyear = int(input(\"끝나는 년도\"))\n",
    "month = int(input('측정할 달'))\n",
    "\n",
    "s_data = df[startyear <= df['날짜'].dt.year]\n",
    "s_data = df[df['날짜'].dt.year <= endyear]\n",
    "s_data = df[df['날짜'].dt.month == month]\n",
    "s_data\n",
    "\n",
    "\n",
    "\n",
    "\n",
    "\n",
    "\n",
    "\n",
    "        \n",
    "        \n",
    "\n"
   ]
  },
  {
   "cell_type": "code",
   "execution_count": 99,
   "metadata": {},
   "outputs": [],
   "source": [
    "# def s_e_m():\n",
    "#     start=int(input('시작 연도를 입력하세요 : '))\n",
    "#     end=int(input('마지막 연도를 입력하세요 : '))\n",
    "#     month=int(input('기온 변화를 측정할 달을 입력하세요 : '))\n",
    "    \n",
    "#     daegu=pd.read_csv('daegu-utf8.csv',encoding='utf-8-sig')\n",
    "#     daegu.columns = ['날짜', '지점', '평균기온', '최저기온', '최고기온']\n",
    "#     daegu['날짜']=pd.to_datetime(daegu['날짜'], format='%Y-%m-%d')\n",
    "    \n",
    "#     year = daegu[(daegu['날짜'].dt.year >= start) & (daegu['날짜'].dt.year <= end)]\n",
    "#     mon = year[year['날짜'].dt.month == month]\n",
    "    \n",
    "#     x_year=[i for i in range(start,end)]\n",
    "#     max_temp=[]\n",
    "#     min_temp=[]\n",
    "#     for i in range(start,end):\n",
    "#         m=mon[mon['날짜'].dt.year==i]\n",
    "#         max_temp.append(round(m['최고기온'].mean(),1))\n",
    "#         min_temp.append(round(m['최저기온'].mean(),1))\n",
    "#     print(f'{start}년부터 {end}년까지 {month}월의 기온 변화\\n')\n",
    "#     print(f'{month}월 최저기온 평균 : ')\n",
    "#     print(str(min_temp)[1:-1])\n",
    "#     print(f'{month}월 최고기온 평균 : ')\n",
    "#     print(str(max_temp)[1:-1])\n",
    "    \n",
    "#     plt.figure(figsize=(20, 4))\n",
    "#     plt.plot(x_year,max_temp, 'red', marker='o', label='최고기온')\n",
    "#     plt.plot(x_year,min_temp, 'blue', marker='s', label='최저기온')\n",
    "\n",
    "#     if platform.system()=='Windows':\n",
    "#         plt.rc('font',family='Malgun Gothic',size=8)\n",
    "#     else:\n",
    "#         plt.rc('font',family='AppleGothic', size=8)\n",
    "\n",
    "#     plt.rcParams['axes.unicode_minus'] = False \n",
    "#     plt.title(f\"{start}년부터 {end}년까지 {month}월의 기온 변화\",size=16)\n",
    "#     plt.xticks(x_year)\n",
    "#     plt.legend(loc='best')\n",
    "#     plt.show()\n",
    "# s_e_m()"
   ]
  }
 ],
 "metadata": {
  "kernelspec": {
   "display_name": "base",
   "language": "python",
   "name": "python3"
  },
  "language_info": {
   "codemirror_mode": {
    "name": "ipython",
    "version": 3
   },
   "file_extension": ".py",
   "mimetype": "text/x-python",
   "name": "python",
   "nbconvert_exporter": "python",
   "pygments_lexer": "ipython3",
   "version": "3.9.15 (main, Nov 24 2022, 14:39:17) [MSC v.1916 64 bit (AMD64)]"
  },
  "orig_nbformat": 4,
  "vscode": {
   "interpreter": {
    "hash": "ad2bdc8ecc057115af97d19610ffacc2b4e99fae6737bb82f5d7fb13d2f2c186"
   }
  }
 },
 "nbformat": 4,
 "nbformat_minor": 2
}
